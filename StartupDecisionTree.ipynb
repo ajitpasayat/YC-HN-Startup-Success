{
 "metadata": {
  "name": "",
  "signature": "sha256:d8cf0b6fb5e954a3704c42cb1200d44db222cd9424ffe5ee19d670d89d7e730a"
 },
 "nbformat": 3,
 "nbformat_minor": 0,
 "worksheets": [
  {
   "cells": [
    {
     "cell_type": "code",
     "collapsed": false,
     "input": [
      "import pandas as pd\n",
      "import numpy as np\n",
      "import matplotlib.pyplot as plt"
     ],
     "language": "python",
     "metadata": {},
     "outputs": [],
     "prompt_number": 1
    },
    {
     "cell_type": "code",
     "collapsed": false,
     "input": [
      "from sklearn import feature_extraction\n",
      "\n",
      "# Borrowed from: http://nbviewer.ipython.org/github/gmonce/scikit-learn-book/tree/master/ (Chapter 4)\n",
      "def one_hot_dataframe(data, cols, replace=False):\n",
      "    \"\"\" Takes a dataframe and a list of columns that need to be encoded.\n",
      "    Returns a 3-tuple comprising the data, the vectorized data,\n",
      "    and the fitted vectorizor.\n",
      "    Modified from https://gist.github.com/kljensen/5452382\n",
      "    \"\"\"\n",
      "    vec = feature_extraction.DictVectorizer()\n",
      "    mkdict = lambda row: dict((col, row[col]) for col in cols)\n",
      "\n",
      "    vecData = pd.DataFrame(vec.fit_transform(data[cols].to_dict(outtype='records')).toarray())\n",
      "    vecData.columns = vec.get_feature_names()\n",
      "    vecData.index = data.index\n",
      "    if replace is True:\n",
      "        data = data.drop(cols, axis=1)\n",
      "        data = data.join(vecData)\n",
      "    return (data, vecData)"
     ],
     "language": "python",
     "metadata": {},
     "outputs": [],
     "prompt_number": 2
    },
    {
     "cell_type": "code",
     "collapsed": false,
     "input": [
      "# Load HackerNews data.\n",
      "hacerknewsdata = pd.DataFrame()\n",
      "hackernewsdata = pd.read_csv('HNTitleCommentsSentimentData.csv')\n",
      "hackernewsdata = hackernewsdata.drop(['Unnamed: 0'], 1)"
     ],
     "language": "python",
     "metadata": {},
     "outputs": [],
     "prompt_number": 3
    },
    {
     "cell_type": "code",
     "collapsed": false,
     "input": [
      "# Load YC startups data.\n",
      "cleanstartups = pd.DataFrame()\n",
      "cleanstartups = pd.read_csv('CleanStartups.csv')\n",
      "cleanstartups = cleanstartups.drop(['Unnamed: 0'], 1)"
     ],
     "language": "python",
     "metadata": {},
     "outputs": [],
     "prompt_number": 4
    },
    {
     "cell_type": "code",
     "collapsed": false,
     "input": [
      "# Merge the cleaned-up YC startup data with Hacker News data.\n",
      "fullset = pd.merge(hackernewsdata, cleanstartups, on='Company', how='inner')"
     ],
     "language": "python",
     "metadata": {},
     "outputs": [],
     "prompt_number": 5
    },
    {
     "cell_type": "code",
     "collapsed": false,
     "input": [
      "# Going to convert those that have exited YC as remaining in operation.\n",
      "# I want to keep the perdiction simple: in operation or dead.\n",
      "# I will think of ways to incorporate startups that have exited as a classifer after my demo.\n",
      "fullset.Fate[fullset.Fate != 'Dead'] = 'Operating'"
     ],
     "language": "python",
     "metadata": {},
     "outputs": [],
     "prompt_number": 6
    },
    {
     "cell_type": "code",
     "collapsed": false,
     "input": [
      "# To create training set, first separate startups that are not operating versus those that remain in operation.\n",
      "# Because there aren't as many dead startups, I will only use an equal amount of active startups (chosen by random). \n",
      "deadset = fullset[fullset.Fate == 'Dead']\n",
      "operatingset = fullset[fullset.Fate == 'Operating']\n",
      "rows = np.random.choice(operatingset.index.values, len(deadset))\n",
      "operatingset = operatingset.ix[rows]\n",
      "\n",
      "# Now merge together the dead and operating startups -- this will be the training set for now.\n",
      "trainingset = deadset.append(operatingset)"
     ],
     "language": "python",
     "metadata": {},
     "outputs": [],
     "prompt_number": 7
    },
    {
     "cell_type": "code",
     "collapsed": false,
     "input": [
      "# Truncating full set to exclude features that aren't going to be in the decision tree.\n",
      "trainingset = trainingset.drop(['Company','Title','TopComment','TopCommentPoints', 'Fate','Description','Logo',\n",
      "                    'SeedDBMattermarkProfile', 'CrunchBaseAngelListProfile', 'Website',\n",
      "                    'YCYear', 'YCSession'], 1)\n",
      "\n",
      "# Also have to deal with missing values and data types.\n",
      "trainingset[['Sentiment','TotalFunds']] = trainingset[['Sentiment','TotalFunds']].fillna(0.0).astype(int)"
     ],
     "language": "python",
     "metadata": {},
     "outputs": [],
     "prompt_number": 8
    },
    {
     "cell_type": "code",
     "collapsed": false,
     "input": [
      "testset = pd.DataFrame(fullset.Fate[trainingset.index])"
     ],
     "language": "python",
     "metadata": {},
     "outputs": [],
     "prompt_number": 9
    },
    {
     "cell_type": "code",
     "collapsed": false,
     "input": [
      "# Transforming lists of feature-value mappings to vectors.\n",
      "# This also transforms and encodes categorical integer features using a variation of one-hot scheme.\n",
      "trainingset, trainingset_n = one_hot_dataframe(trainingset, ['City', 'Investors1', 'Investors2', 'Investors3', 'Investors4',\n",
      "                                                             'Founders1', 'Founders2', 'Founders3', 'Founders4',\n",
      "                                                             'Market1', 'Market2', 'Market3', 'Market4', \n",
      "                                                             'Market5'], replace=True)\n",
      "trainingset = trainingset.fillna(0)\n",
      "\n",
      "testset, testset_n = one_hot_dataframe(testset, ['Fate'], replace=True)\n",
      "testset = testset.fillna(0)"
     ],
     "language": "python",
     "metadata": {},
     "outputs": [],
     "prompt_number": 10
    },
    {
     "cell_type": "code",
     "collapsed": false,
     "input": [
      "from sklearn import cross_validation\n",
      "X_train, X_test, y_train, y_test = cross_validation.train_test_split(trainingset, \n",
      "                                                                     testset, \n",
      "                                                                     test_size=0.4, \n",
      "                                                                     random_state=0)"
     ],
     "language": "python",
     "metadata": {},
     "outputs": [],
     "prompt_number": 11
    },
    {
     "cell_type": "code",
     "collapsed": false,
     "input": [
      "from sklearn.ensemble import RandomForestClassifier\n",
      "clf = RandomForestClassifier(n_estimators=30)\n",
      "clf = clf.fit(X_train, y_train)"
     ],
     "language": "python",
     "metadata": {},
     "outputs": [],
     "prompt_number": 40
    },
    {
     "cell_type": "code",
     "collapsed": false,
     "input": [
      "clf.score(X_test, y_test)"
     ],
     "language": "python",
     "metadata": {},
     "outputs": [
      {
       "metadata": {},
       "output_type": "pyout",
       "prompt_number": 41,
       "text": [
        "0.7142857142857143"
       ]
      }
     ],
     "prompt_number": 41
    },
    {
     "cell_type": "code",
     "collapsed": false,
     "input": [
      "from sklearn.datasets import make_classification\n",
      "from sklearn.ensemble import ExtraTreesClassifier\n",
      "\n",
      "importances = clf.feature_importances_\n",
      "indices = np.argsort(importances)[::-1]\n",
      "\n",
      "# Print the feature ranking\n",
      "print(\"Feature ranking:\")\n",
      "\n",
      "for f in range(10):\n",
      "    print(\"%d. %s (%f)\" % (f + 1, trainingset.columns[indices][f], importances[indices[f]]))\n",
      "\n",
      "# Plot the feature importances of the forest\n",
      "figure(figsize=[10,6])\n",
      "barh(range(10), importances[indices][:10], color=\"orange\", align=\"center\")\n",
      "yticks(range(10), trainingset.columns[indices][:10])\n",
      "plt.ylim([-1,10])\n",
      "plt.gca().invert_yaxis()\n",
      "title(\"Feature Importances\")\n",
      "savefig('featureimportances.png')"
     ],
     "language": "python",
     "metadata": {},
     "outputs": [
      {
       "output_type": "stream",
       "stream": "stdout",
       "text": [
        "Feature ranking:\n",
        "1. TitlePoints (0.101756)\n",
        "2. TotalFunds (0.096387)\n",
        "3. Investors1=Y Combinator (0.059843)\n",
        "4. Sentiment (0.039365)\n",
        "5. Market1=Curated Web (0.032492)\n",
        "6. City=San Francisco (0.024469)\n",
        "7. Market1=Mobile (0.023166)\n",
        "8. Market1=Games (0.017967)\n",
        "9. City=San Francisco, New York City (0.017038)\n",
        "10. Market1=Social Media (0.016806)\n"
       ]
      },
      {
       "metadata": {},
       "output_type": "display_data",
       "png": "[encoded data removed]",
       "text": [
        "<matplotlib.figure.Figure at 0x10d62f9d0>"
       ]
      }
     ],
     "prompt_number": 42
    },
    {
     "cell_type": "code",
     "collapsed": false,
     "input": [
      "# Save the model \n",
      "import pickle\n",
      "pickle.dump( clf, open( \"randomforeststartup.p\", \"wb\" ) )"
     ],
     "language": "python",
     "metadata": {},
     "outputs": [],
     "prompt_number": 84
    },
    {
     "cell_type": "code",
     "collapsed": false,
     "input": [
      "# Going to clean up the fullset of data to run in random tree classifier.\n",
      "fullsetbackup = fullset\n",
      "fullsetbackup = fullsetbackup.drop(['Company','Title','TopComment','Fate','Description','Logo','SeedDBMattermarkProfile', \n",
      "                              'CrunchBaseAngelListProfile', 'Website', 'YCYear', 'YCSession'], 1)\n",
      "fullsetbackup[['Sentiment','TotalFunds']] = fullsetbackup[['Sentiment','TotalFunds']].fillna(0.0).astype(int)\n",
      "fullsetbackup, fullsetbackup_n = one_hot_dataframe(fullsetbackup, ['City', 'Investors1', 'Investors2', \n",
      "                                                                   'Investors3', 'Investors4', 'Founders1', 'Founders2', \n",
      "                                                                   'Founders3', 'Founders4','Market1', 'Market2', 'Market3', \n",
      "                                                                   'Market4', 'Market5'], replace=True)\n",
      "fullsetbackup = fullsetbackup.fillna(0)\n",
      "fullsetbackup = fullsetbackup[trainingset.columns]"
     ],
     "language": "python",
     "metadata": {},
     "outputs": [],
     "prompt_number": 16
    },
    {
     "cell_type": "code",
     "collapsed": false,
     "input": [
      "classifier = []\n",
      "for index, row in fullsetbackup.iterrows():\n",
      "    predictedfate = clf.predict(row)\n",
      "    if predictedfate[0][0] > 0:\n",
      "        classifier.append('Dead')\n",
      "    else:\n",
      "        classifier.append('Operating')"
     ],
     "language": "python",
     "metadata": {},
     "outputs": [],
     "prompt_number": 17
    },
    {
     "cell_type": "code",
     "collapsed": false,
     "input": [
      "fullset['PredictedClass'] = classifier"
     ],
     "language": "python",
     "metadata": {},
     "outputs": [],
     "prompt_number": 18
    },
    {
     "cell_type": "code",
     "collapsed": false,
     "input": [
      "# Backing up fullset, now with predicted classifier.\n",
      "fullset.to_csv('FullSet.csv', sep=',', encoding='utf-8')"
     ],
     "language": "python",
     "metadata": {},
     "outputs": [],
     "prompt_number": 19
    },
    {
     "cell_type": "code",
     "collapsed": false,
     "input": [
      "# Model validation\n",
      "scores = []\n",
      "ntrees = []\n",
      "for n in range(1,31):\n",
      "    clf_validation = RandomForestClassifier(n_estimators=n)\n",
      "    clf_validation = clf_validation.fit(X_train, y_train)\n",
      "    ntrees.append(n)\n",
      "    scores.append(clf_validation.score(X_test, y_test))"
     ],
     "language": "python",
     "metadata": {},
     "outputs": [],
     "prompt_number": 20
    },
    {
     "cell_type": "code",
     "collapsed": false,
     "input": [
      "# Plot the mean accuracy of each random forest simulation.\n",
      "figure(figsize=[10,6])\n",
      "plot(ntrees, scores, color=\"orange\", linewidth=10)\n",
      "plt.ylim([0,1])\n",
      "plt.xlim([0,31])\n",
      "title('Test Accuracy')\n",
      "xlabel('Number of Trees')\n",
      "ylabel('Mean Accuracy Score')\n",
      "savefig('accuracytest.png')"
     ],
     "language": "python",
     "metadata": {},
     "outputs": [
      {
       "metadata": {},
       "output_type": "display_data",
       "png": "[encoded data removed]",
       "text": [
        "<matplotlib.figure.Figure at 0x10d7d8510>"
       ]
      }
     ],
     "prompt_number": 85
    },
    {
     "cell_type": "code",
     "collapsed": false,
     "input": [
      "mean(scores)"
     ],
     "language": "python",
     "metadata": {},
     "outputs": [
      {
       "metadata": {},
       "output_type": "pyout",
       "prompt_number": 22,
       "text": [
        "0.69523809523809532"
       ]
      }
     ],
     "prompt_number": 22
    },
    {
     "cell_type": "code",
     "collapsed": false,
     "input": [
      "# Going to compute overall cross validation score across entire dataset to see how the model performs.\n",
      "fullsettarget = pd.DataFrame(fullset.Fate)\n",
      "fullsettarget, fullsettarget_n = one_hot_dataframe(fullsettarget, ['Fate'], replace=True)\n",
      "fullsettarget = fullsettarget.fillna(0)\n",
      "\n",
      "cvscores = cross_validation.cross_val_score(clf, fullsetbackup, fullsettarget, cv=5)\n",
      "print(\"Accuracy: %0.2f (+/- %0.2f)\" % (cvscores.mean(), cvscores.std() * 2))"
     ],
     "language": "python",
     "metadata": {},
     "outputs": [
      {
       "output_type": "stream",
       "stream": "stdout",
       "text": [
        "Accuracy: 0.87 (+/- 0.13)\n"
       ]
      }
     ],
     "prompt_number": 23
    },
    {
     "cell_type": "code",
     "collapsed": false,
     "input": [
      "importances[indices][:10]"
     ],
     "language": "python",
     "metadata": {},
     "outputs": [
      {
       "metadata": {},
       "output_type": "pyout",
       "prompt_number": 44,
       "text": [
        "array([ 0.10175625,  0.09638657,  0.05984287,  0.03936478,  0.03249215,\n",
        "        0.02446917,  0.02316623,  0.01796699,  0.01703777,  0.01680575])"
       ]
      }
     ],
     "prompt_number": 44
    },
    {
     "cell_type": "code",
     "collapsed": false,
     "input": [
      "plotdata = pd.DataFrame(columns=['nTrees','Scores'])\n",
      "plotdata.nTrees = ntrees\n",
      "plotdata.Scores = scores"
     ],
     "language": "python",
     "metadata": {},
     "outputs": [],
     "prompt_number": 53
    },
    {
     "cell_type": "code",
     "collapsed": false,
     "input": [
      "chartdata = pd.DataFrame(columns=['Features','FeatureValues'])\n",
      "chartdata.Features = trainingset.columns[indices][:10]\n",
      "chartdata.FeatureValues = importances[indices][:10]"
     ],
     "language": "python",
     "metadata": {},
     "outputs": [],
     "prompt_number": 54
    },
    {
     "cell_type": "code",
     "collapsed": false,
     "input": [
      "plotdata.to_csv('PlotData.csv', sep=',', encoding='utf-8')\n",
      "chartdata.to_csv('ChartData.csv', sep=',', encoding='utf-8')"
     ],
     "language": "python",
     "metadata": {},
     "outputs": [],
     "prompt_number": 81
    },
    {
     "cell_type": "code",
     "collapsed": false,
     "input": [
      "# Export dataframe to SQL for front-end.\n",
      "from pandas.io import sql\n",
      "import MySQLdb\n",
      "\n",
      "db = MySQLdb.connect(host=\"localhost\", user=\"root\", passwd= \"\", db=\"startupsuccess_db\")\n",
      "\n",
      "sql.write_frame(fullset, con=db, name='Startup', if_exists='replace', flavor='mysql')"
     ],
     "language": "python",
     "metadata": {},
     "outputs": [
      {
       "ename": "KeyboardInterrupt",
       "evalue": "",
       "output_type": "pyerr",
       "traceback": [
        "\u001b[0;31m---------------------------------------------------------------------------\u001b[0m\n\u001b[0;31mKeyboardInterrupt\u001b[0m                         Traceback (most recent call last)",
        "\u001b[0;32m<ipython-input-88-418654854edd>\u001b[0m in \u001b[0;36m<module>\u001b[0;34m()\u001b[0m\n\u001b[1;32m      5\u001b[0m \u001b[0mdb\u001b[0m \u001b[0;34m=\u001b[0m \u001b[0mMySQLdb\u001b[0m\u001b[0;34m.\u001b[0m\u001b[0mconnect\u001b[0m\u001b[0;34m(\u001b[0m\u001b[0mhost\u001b[0m\u001b[0;34m=\u001b[0m\u001b[0;34m\"localhost\"\u001b[0m\u001b[0;34m,\u001b[0m \u001b[0muser\u001b[0m\u001b[0;34m=\u001b[0m\u001b[0;34m\"root\"\u001b[0m\u001b[0;34m,\u001b[0m \u001b[0mpasswd\u001b[0m\u001b[0;34m=\u001b[0m \u001b[0;34m\"\"\u001b[0m\u001b[0;34m,\u001b[0m \u001b[0mdb\u001b[0m\u001b[0;34m=\u001b[0m\u001b[0;34m\"startupsuccess_db\"\u001b[0m\u001b[0;34m)\u001b[0m\u001b[0;34m\u001b[0m\u001b[0m\n\u001b[1;32m      6\u001b[0m \u001b[0;34m\u001b[0m\u001b[0m\n\u001b[0;32m----> 7\u001b[0;31m \u001b[0msql\u001b[0m\u001b[0;34m.\u001b[0m\u001b[0mwrite_frame\u001b[0m\u001b[0;34m(\u001b[0m\u001b[0mfullset\u001b[0m\u001b[0;34m,\u001b[0m \u001b[0mcon\u001b[0m\u001b[0;34m=\u001b[0m\u001b[0mdb\u001b[0m\u001b[0;34m,\u001b[0m \u001b[0mname\u001b[0m\u001b[0;34m=\u001b[0m\u001b[0;34m'Startup'\u001b[0m\u001b[0;34m,\u001b[0m \u001b[0mif_exists\u001b[0m\u001b[0;34m=\u001b[0m\u001b[0;34m'replace'\u001b[0m\u001b[0;34m,\u001b[0m \u001b[0mflavor\u001b[0m\u001b[0;34m=\u001b[0m\u001b[0;34m'mysql'\u001b[0m\u001b[0;34m)\u001b[0m\u001b[0;34m\u001b[0m\u001b[0m\n\u001b[0m",
        "\u001b[0;32m/usr/local/lib/python2.7/site-packages/pandas/io/sql.pyc\u001b[0m in \u001b[0;36mwrite_frame\u001b[0;34m(frame, name, con, flavor, if_exists, **kwargs)\u001b[0m\n\u001b[1;32m   1237\u001b[0m     \u001b[0mindex\u001b[0m \u001b[0;34m=\u001b[0m \u001b[0mkwargs\u001b[0m\u001b[0;34m.\u001b[0m\u001b[0mpop\u001b[0m\u001b[0;34m(\u001b[0m\u001b[0;34m'index'\u001b[0m\u001b[0;34m,\u001b[0m \u001b[0mFalse\u001b[0m\u001b[0;34m)\u001b[0m\u001b[0;34m\u001b[0m\u001b[0m\n\u001b[1;32m   1238\u001b[0m     return to_sql(frame, name, con, flavor=flavor, if_exists=if_exists,\n\u001b[0;32m-> 1239\u001b[0;31m                   index=index, **kwargs)\n\u001b[0m\u001b[1;32m   1240\u001b[0m \u001b[0;34m\u001b[0m\u001b[0m\n\u001b[1;32m   1241\u001b[0m \u001b[0;34m\u001b[0m\u001b[0m\n",
        "\u001b[0;32m/usr/local/lib/python2.7/site-packages/pandas/io/sql.pyc\u001b[0m in \u001b[0;36mto_sql\u001b[0;34m(frame, name, con, flavor, if_exists, index, index_label)\u001b[0m\n\u001b[1;32m    473\u001b[0m \u001b[0;34m\u001b[0m\u001b[0m\n\u001b[1;32m    474\u001b[0m     pandas_sql.to_sql(frame, name, if_exists=if_exists, index=index,\n\u001b[0;32m--> 475\u001b[0;31m                       index_label=index_label)\n\u001b[0m\u001b[1;32m    476\u001b[0m \u001b[0;34m\u001b[0m\u001b[0m\n\u001b[1;32m    477\u001b[0m \u001b[0;34m\u001b[0m\u001b[0m\n",
        "\u001b[0;32m/usr/local/lib/python2.7/site-packages/pandas/io/sql.pyc\u001b[0m in \u001b[0;36mto_sql\u001b[0;34m(self, frame, name, if_exists, index, index_label)\u001b[0m\n\u001b[1;32m   1082\u001b[0m         table = PandasSQLTableLegacy(\n\u001b[1;32m   1083\u001b[0m             \u001b[0mname\u001b[0m\u001b[0;34m,\u001b[0m \u001b[0mself\u001b[0m\u001b[0;34m,\u001b[0m \u001b[0mframe\u001b[0m\u001b[0;34m=\u001b[0m\u001b[0mframe\u001b[0m\u001b[0;34m,\u001b[0m \u001b[0mindex\u001b[0m\u001b[0;34m=\u001b[0m\u001b[0mindex\u001b[0m\u001b[0;34m,\u001b[0m \u001b[0mif_exists\u001b[0m\u001b[0;34m=\u001b[0m\u001b[0mif_exists\u001b[0m\u001b[0;34m,\u001b[0m\u001b[0;34m\u001b[0m\u001b[0m\n\u001b[0;32m-> 1084\u001b[0;31m             index_label=index_label)\n\u001b[0m\u001b[1;32m   1085\u001b[0m         \u001b[0mtable\u001b[0m\u001b[0;34m.\u001b[0m\u001b[0minsert\u001b[0m\u001b[0;34m(\u001b[0m\u001b[0;34m)\u001b[0m\u001b[0;34m\u001b[0m\u001b[0m\n\u001b[1;32m   1086\u001b[0m \u001b[0;34m\u001b[0m\u001b[0m\n",
        "\u001b[0;32m/usr/local/lib/python2.7/site-packages/pandas/io/sql.pyc\u001b[0m in \u001b[0;36m__init__\u001b[0;34m(self, name, pandas_sql_engine, frame, index, if_exists, prefix, index_label)\u001b[0m\n\u001b[1;32m    545\u001b[0m                     \u001b[0;32mraise\u001b[0m \u001b[0mValueError\u001b[0m\u001b[0;34m(\u001b[0m\u001b[0;34m\"Table '%s' already exists.\"\u001b[0m \u001b[0;34m%\u001b[0m \u001b[0mname\u001b[0m\u001b[0;34m)\u001b[0m\u001b[0;34m\u001b[0m\u001b[0m\n\u001b[1;32m    546\u001b[0m                 \u001b[0;32melif\u001b[0m \u001b[0mif_exists\u001b[0m \u001b[0;34m==\u001b[0m \u001b[0;34m'replace'\u001b[0m\u001b[0;34m:\u001b[0m\u001b[0;34m\u001b[0m\u001b[0m\n\u001b[0;32m--> 547\u001b[0;31m                     \u001b[0mself\u001b[0m\u001b[0;34m.\u001b[0m\u001b[0mpd_sql\u001b[0m\u001b[0;34m.\u001b[0m\u001b[0mdrop_table\u001b[0m\u001b[0;34m(\u001b[0m\u001b[0mself\u001b[0m\u001b[0;34m.\u001b[0m\u001b[0mname\u001b[0m\u001b[0;34m)\u001b[0m\u001b[0;34m\u001b[0m\u001b[0m\n\u001b[0m\u001b[1;32m    548\u001b[0m                     \u001b[0mself\u001b[0m\u001b[0;34m.\u001b[0m\u001b[0mtable\u001b[0m \u001b[0;34m=\u001b[0m \u001b[0mself\u001b[0m\u001b[0;34m.\u001b[0m\u001b[0m_create_table_statement\u001b[0m\u001b[0;34m(\u001b[0m\u001b[0;34m)\u001b[0m\u001b[0;34m\u001b[0m\u001b[0m\n\u001b[1;32m    549\u001b[0m                     \u001b[0mself\u001b[0m\u001b[0;34m.\u001b[0m\u001b[0mcreate\u001b[0m\u001b[0;34m(\u001b[0m\u001b[0;34m)\u001b[0m\u001b[0;34m\u001b[0m\u001b[0m\n",
        "\u001b[0;32m/usr/local/lib/python2.7/site-packages/pandas/io/sql.pyc\u001b[0m in \u001b[0;36mdrop_table\u001b[0;34m(self, name)\u001b[0m\n\u001b[1;32m   1099\u001b[0m     \u001b[0;32mdef\u001b[0m \u001b[0mdrop_table\u001b[0m\u001b[0;34m(\u001b[0m\u001b[0mself\u001b[0m\u001b[0;34m,\u001b[0m \u001b[0mname\u001b[0m\u001b[0;34m)\u001b[0m\u001b[0;34m:\u001b[0m\u001b[0;34m\u001b[0m\u001b[0m\n\u001b[1;32m   1100\u001b[0m         \u001b[0mdrop_sql\u001b[0m \u001b[0;34m=\u001b[0m \u001b[0;34m\"DROP TABLE %s\"\u001b[0m \u001b[0;34m%\u001b[0m \u001b[0mname\u001b[0m\u001b[0;34m\u001b[0m\u001b[0m\n\u001b[0;32m-> 1101\u001b[0;31m         \u001b[0mself\u001b[0m\u001b[0;34m.\u001b[0m\u001b[0mexecute\u001b[0m\u001b[0;34m(\u001b[0m\u001b[0mdrop_sql\u001b[0m\u001b[0;34m)\u001b[0m\u001b[0;34m\u001b[0m\u001b[0m\n\u001b[0m\u001b[1;32m   1102\u001b[0m \u001b[0;34m\u001b[0m\u001b[0m\n\u001b[1;32m   1103\u001b[0m     \u001b[0;32mdef\u001b[0m \u001b[0m_create_sql_schema\u001b[0m\u001b[0;34m(\u001b[0m\u001b[0mself\u001b[0m\u001b[0;34m,\u001b[0m \u001b[0mframe\u001b[0m\u001b[0;34m,\u001b[0m \u001b[0mtable_name\u001b[0m\u001b[0;34m)\u001b[0m\u001b[0;34m:\u001b[0m\u001b[0;34m\u001b[0m\u001b[0m\n",
        "\u001b[0;32m/usr/local/lib/python2.7/site-packages/pandas/io/sql.pyc\u001b[0m in \u001b[0;36mexecute\u001b[0;34m(self, *args, **kwargs)\u001b[0m\n\u001b[1;32m   1028\u001b[0m                 \u001b[0mcur\u001b[0m\u001b[0;34m.\u001b[0m\u001b[0mexecute\u001b[0m\u001b[0;34m(\u001b[0m\u001b[0;34m*\u001b[0m\u001b[0margs\u001b[0m\u001b[0;34m,\u001b[0m \u001b[0;34m**\u001b[0m\u001b[0mkwargs\u001b[0m\u001b[0;34m)\u001b[0m\u001b[0;34m\u001b[0m\u001b[0m\n\u001b[1;32m   1029\u001b[0m             \u001b[0;32melse\u001b[0m\u001b[0;34m:\u001b[0m\u001b[0;34m\u001b[0m\u001b[0m\n\u001b[0;32m-> 1030\u001b[0;31m                 \u001b[0mcur\u001b[0m\u001b[0;34m.\u001b[0m\u001b[0mexecute\u001b[0m\u001b[0;34m(\u001b[0m\u001b[0;34m*\u001b[0m\u001b[0margs\u001b[0m\u001b[0;34m)\u001b[0m\u001b[0;34m\u001b[0m\u001b[0m\n\u001b[0m\u001b[1;32m   1031\u001b[0m             \u001b[0;32mreturn\u001b[0m \u001b[0mcur\u001b[0m\u001b[0;34m\u001b[0m\u001b[0m\n\u001b[1;32m   1032\u001b[0m         \u001b[0;32mexcept\u001b[0m \u001b[0mException\u001b[0m \u001b[0;32mas\u001b[0m \u001b[0me\u001b[0m\u001b[0;34m:\u001b[0m\u001b[0;34m\u001b[0m\u001b[0m\n",
        "\u001b[0;32m/usr/local/lib/python2.7/site-packages/MySQLdb/cursors.pyc\u001b[0m in \u001b[0;36mexecute\u001b[0;34m(self, query, args)\u001b[0m\n\u001b[1;32m    188\u001b[0m         \u001b[0;32mtry\u001b[0m\u001b[0;34m:\u001b[0m\u001b[0;34m\u001b[0m\u001b[0m\n\u001b[1;32m    189\u001b[0m             \u001b[0mr\u001b[0m \u001b[0;34m=\u001b[0m \u001b[0mNone\u001b[0m\u001b[0;34m\u001b[0m\u001b[0m\n\u001b[0;32m--> 190\u001b[0;31m             \u001b[0mr\u001b[0m \u001b[0;34m=\u001b[0m \u001b[0mself\u001b[0m\u001b[0;34m.\u001b[0m\u001b[0m_query\u001b[0m\u001b[0;34m(\u001b[0m\u001b[0mquery\u001b[0m\u001b[0;34m)\u001b[0m\u001b[0;34m\u001b[0m\u001b[0m\n\u001b[0m\u001b[1;32m    191\u001b[0m         \u001b[0;32mexcept\u001b[0m \u001b[0mTypeError\u001b[0m\u001b[0;34m,\u001b[0m \u001b[0mm\u001b[0m\u001b[0;34m:\u001b[0m\u001b[0;34m\u001b[0m\u001b[0m\n\u001b[1;32m    192\u001b[0m             if m.args[0] in (\"not enough arguments for format string\",\n",
        "\u001b[0;31mKeyboardInterrupt\u001b[0m: "
       ]
      }
     ],
     "prompt_number": 88
    },
    {
     "cell_type": "code",
     "collapsed": false,
     "input": [],
     "language": "python",
     "metadata": {},
     "outputs": []
    }
   ],
   "metadata": {}
  }
 ]
}