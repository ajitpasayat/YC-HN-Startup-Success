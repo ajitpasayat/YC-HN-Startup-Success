{
 "metadata": {
  "name": "",
  "signature": "sha256:24b550558ec9ee54db96d7682b119e9a59b9083fcc204a673de8d3bc188fbe8a"
 },
 "nbformat": 3,
 "nbformat_minor": 0,
 "worksheets": [
  {
   "cells": [
    {
     "cell_type": "code",
     "collapsed": false,
     "input": [
      "import pandas as pd\n",
      "import numpy as np\n",
      "import matplotlib.pyplot as plt\n",
      "\n",
      "import urllib2\n",
      "import json\n",
      "\n",
      "# Using the open-source Data Science Toolkit by Pete Warden for sentiment analysis.\n",
      "import dstk\n",
      "dstk = dstk.DSTK()\n",
      "\n",
      "# Parser used to decode HTML text.\n",
      "import HTMLParser\n",
      "h = HTMLParser.HTMLParser()"
     ],
     "language": "python",
     "metadata": {},
     "outputs": []
    },
    {
     "cell_type": "code",
     "collapsed": false,
     "input": [
      "cleanstartups = pd.DataFrame()\n",
      "cleanstartups = pd.read_csv('CleanStartups.csv')"
     ],
     "language": "python",
     "metadata": {},
     "outputs": []
    },
    {
     "cell_type": "code",
     "collapsed": false,
     "input": [
      "cleanstartups = cleanstartups.drop(['Unnamed: 0'], 1)"
     ],
     "language": "python",
     "metadata": {},
     "outputs": []
    },
    {
     "cell_type": "code",
     "collapsed": false,
     "input": [
      "hnstorycomment = pd.DataFrame(columns=('Company', 'Title', 'TitlePoints',\n",
      "                                    'TopComment', 'Sentiment', 'TopCommentPoints'))\n",
      "\n",
      "# For each startup, search for all stories that match based on when they participated in Y Combinator (season and year).\n",
      "for index, row in cleanstartups.iterrows():\n",
      "    \n",
      "    # API call to search for topics that feature a startups's YC announcement.\n",
      "    url = 'https://hn.algolia.com/api/v1/search?query=%s+%s+%s%s&tags=story' % (cleanstartups.Company[index].replace(\" \", \"\"), \n",
      "                                                                                'YC', cleanstartups.YCSession[index][0],\n",
      "                                                                                str(cleanstartups.YCYear[0])[-2:])\n",
      "    req = urllib2.Request(url)\n",
      "    response = urllib2.urlopen(req)\n",
      "    data = json.loads(response.read())\n",
      "    if not data['hits']:\n",
      "        continue\n",
      "    topics = pd.DataFrame(data['hits'], columns=['title','points','objectID'])\n",
      "\n",
      "    # API call to retrieve comments of most upvoted story X, where X is the objectID retrieved from the previous API call.\n",
      "    url = 'https://hn.algolia.com/api/v1/search?tags=comment,story_%s' % topics.loc[0,'objectID']\n",
      "    req = urllib2.Request(url)\n",
      "    response = urllib2.urlopen(req)\n",
      "    data = json.loads(response.read())\n",
      "    if not data['hits']:\n",
      "        continue\n",
      "    comments = pd.DataFrame(data['hits'], columns=['comment_text','points','created_at'])\n",
      "\n",
      "        \n",
      "    # API call to obtain sentiment value of top comment in most upvoted story.\n",
      "    topcomment = h.unescape(comments.loc[0,'comment_text']).encode('utf-8')\n",
      "    sentiment = dstk.text2sentiment(topcomment)['score']\n",
      "    \n",
      "    hnstorycomment.loc[index] = [row['Company'].encode('utf-8'), topics.loc[0,'title'].encode('utf-8'), topics.loc[0,'points'],\n",
      "                                 topcomment, sentiment, comments.loc[0,'points']]"
     ],
     "language": "python",
     "metadata": {},
     "outputs": []
    },
    {
     "cell_type": "code",
     "collapsed": false,
     "input": [
      "# Export dataframe to CSV for backup.\n",
      "hnstorycomment.to_csv('HNTitleCommentsSentiment.csv', sep=',', encoding='utf-8')"
     ],
     "language": "python",
     "metadata": {},
     "outputs": []
    }
   ],
   "metadata": {}
  }
 ]
}