{
 "metadata": {
  "name": "",
  "signature": "sha256:50ccd118d5a72fea9d43e83436fb00a64c2a6484e39af4c20452dd7dc74bb669"
 },
 "nbformat": 3,
 "nbformat_minor": 0,
 "worksheets": [
  {
   "cells": [
    {
     "cell_type": "code",
     "collapsed": false,
     "input": [
      "import pandas as pd\n",
      "import numpy as np\n",
      "import matplotlib.pyplot as plt\n",
      "\n",
      "import urllib2\n",
      "import json\n",
      "\n",
      "# Using the open-source Data Science Toolkit by Pete Warden for sentiment analysis.\n",
      "import dstk\n",
      "dstk = dstk.DSTK()\n",
      "\n",
      "# Parser used to decode HTML text.\n",
      "import HTMLParser\n",
      "h = HTMLParser.HTMLParser()\n",
      "\n",
      "import re"
     ],
     "language": "python",
     "metadata": {},
     "outputs": [],
     "prompt_number": 1
    },
    {
     "cell_type": "code",
     "collapsed": false,
     "input": [
      "cleanstartups = pd.DataFrame()\n",
      "cleanstartups = pd.read_csv('../Datasets/CleanStartups.csv')\n",
      "cleanstartups = cleanstartups.drop(['Unnamed: 0'], 1)"
     ],
     "language": "python",
     "metadata": {},
     "outputs": [],
     "prompt_number": 2
    },
    {
     "cell_type": "code",
     "collapsed": false,
     "input": [
      "hnstorycomment = pd.DataFrame(columns=('Company', 'Title', 'TitlePoints', 'TitleURL', 'TopComment', 'Sentiment', 'TopCommentPoints'))\n",
      "\n",
      "# For each startup, search for all stories that match based on when they participated in Y Combinator (season and year).\n",
      "for index, row in cleanstartups.iterrows():\n",
      "    \n",
      "    data = []\n",
      "    # API call to search for topics that feature a startups's YC announcement.\n",
      "    try:\n",
      "        url = 'https://hn.algolia.com/api/v1/search?query=%s+%s+%s%s&tags=story' % (cleanstartups.Company[index].replace(\" \", \"\"), \n",
      "                                                                                'YC', cleanstartups.YCSession[index][0],\n",
      "                                                                                str(cleanstartups.YCYear[0])[-2:])\n",
      "        req = urllib2.Request(url)\n",
      "        response = urllib2.urlopen(req)\n",
      "        data = json.loads(response.read())\n",
      "    except Exception, e:\n",
      "        print e\n",
      "            \n",
      "    # If no results were found, then try searching without the YC class session tag.\n",
      "    if not data or not data['hits']:\n",
      "        try:\n",
      "            url = 'https://hn.algolia.com/api/v1/search?query=%s&tags=story' % cleanstartups.Company[index].replace(\" \", \"\")\n",
      "            req = urllib2.Request(url)\n",
      "            response = urllib2.urlopen(req)\n",
      "            data = json.loads(response.read())\n",
      "        except Exception, e:\n",
      "            print e\n",
      "            \n",
      "        if not data or not data['hits']:\n",
      "            print row['Company'], url\n",
      "            continue\n",
      "            \n",
      "    topics = pd.DataFrame(data['hits'], columns=['title','points','objectID'])\n",
      "\n",
      "    # API call to retrieve comments of most upvoted story X, where X is the objectID retrieved from the previous API call.\n",
      "    try:\n",
      "        url = 'https://hn.algolia.com/api/v1/search?tags=comment,story_%s' % topics.loc[0,'objectID']\n",
      "        req = urllib2.Request(url)\n",
      "        response = urllib2.urlopen(req)\n",
      "    except Exception, e:\n",
      "        print e\n",
      "        \n",
      "    data = json.loads(response.read())\n",
      "    \n",
      "    if not data or not data['hits']:\n",
      "        print row['Company'], url\n",
      "        continue\n",
      "        \n",
      "    comments = pd.DataFrame(data['hits'], columns=['comment_text','points','created_at'])\n",
      "\n",
      "        \n",
      "    # API call to obtain sentiment value of top comment in most upvoted story.\n",
      "    topcomment = h.unescape(comments.loc[0,'comment_text']).encode('utf-8')\n",
      "    cleanr = re.compile('<.*?>')\n",
      "    cleancomment = re.sub(cleanr,'',topcomment)\n",
      "    \n",
      "    sentiment = dstk.text2sentiment(cleancomment)['score']\n",
      "    \n",
      "    commenturl = str('https://news.ycombinator.com/item?id=' + topics.loc[0,'objectID'])\n",
      "    \n",
      "    hnstorycomment.loc[index] = [row['Company'].encode('utf-8'), topics.loc[0,'title'].encode('utf-8'), topics.loc[0,'points'], \n",
      "                                 commenturl, cleancomment, sentiment, comments.loc[0,'points']]"
     ],
     "language": "python",
     "metadata": {},
     "outputs": [
      {
       "output_type": "stream",
       "stream": "stdout",
       "text": [
        "CrowdMed https://hn.algolia.com/api/v1/search?tags=comment,story_5563915\n",
        "SocialPicks"
       ]
      },
      {
       "output_type": "stream",
       "stream": "stdout",
       "text": [
        " https://hn.algolia.com/api/v1/search?tags=comment,story_249359\n",
        "Auctomatic"
       ]
      },
      {
       "output_type": "stream",
       "stream": "stdout",
       "text": [
        " https://hn.algolia.com/api/v1/search?tags=comment,story_5814394\n",
        "Wakemate"
       ]
      },
      {
       "output_type": "stream",
       "stream": "stdout",
       "text": [
        " https://hn.algolia.com/api/v1/search?tags=comment,story_2434112\n",
        "Teleborder"
       ]
      },
      {
       "output_type": "stream",
       "stream": "stdout",
       "text": [
        " https://hn.algolia.com/api/v1/search?tags=comment,story_6238452\n",
        "Butter Systems"
       ]
      },
      {
       "output_type": "stream",
       "stream": "stdout",
       "text": [
        " https://hn.algolia.com/api/v1/search?query=ButterSystems&tags=story\n",
        "BoostedBoards"
       ]
      },
      {
       "output_type": "stream",
       "stream": "stdout",
       "text": [
        " https://hn.algolia.com/api/v1/search?tags=comment,story_6441737\n",
        "Reebee"
       ]
      },
      {
       "output_type": "stream",
       "stream": "stdout",
       "text": [
        " https://hn.algolia.com/api/v1/search?tags=comment,story_3568561\n",
        "Floobits"
       ]
      },
      {
       "output_type": "stream",
       "stream": "stdout",
       "text": [
        " https://hn.algolia.com/api/v1/search?tags=comment,story_6129133\n",
        "Comprehend Systems"
       ]
      },
      {
       "output_type": "stream",
       "stream": "stdout",
       "text": [
        " https://hn.algolia.com/api/v1/search?query=ComprehendSystems&tags=story\n",
        "Airware"
       ]
      },
      {
       "output_type": "stream",
       "stream": "stdout",
       "text": [
        " https://hn.algolia.com/api/v1/search?tags=comment,story_6677658\n",
        "Posterous"
       ]
      },
      {
       "output_type": "stream",
       "stream": "stdout",
       "text": [
        " https://hn.algolia.com/api/v1/search?tags=comment,story_3599817\n",
        "Kirkland North"
       ]
      },
      {
       "output_type": "stream",
       "stream": "stdout",
       "text": [
        " https://hn.algolia.com/api/v1/search?query=KirklandNorth&tags=story\n",
        "Panorama Education"
       ]
      },
      {
       "output_type": "stream",
       "stream": "stdout",
       "text": [
        " https://hn.algolia.com/api/v1/search?query=PanoramaEducation&tags=story\n",
        "OrderAhead"
       ]
      },
      {
       "output_type": "stream",
       "stream": "stdout",
       "text": [
        " https://hn.algolia.com/api/v1/search?tags=comment,story_4382557\n",
        "Optimizely"
       ]
      },
      {
       "output_type": "stream",
       "stream": "stdout",
       "text": [
        " https://hn.algolia.com/api/v1/search?tags=comment,story_1894252\n",
        "Pebble Technology"
       ]
      },
      {
       "output_type": "stream",
       "stream": "stdout",
       "text": [
        " https://hn.algolia.com/api/v1/search?query=PebbleTechnology&tags=story\n",
        "Heyzap"
       ]
      },
      {
       "output_type": "stream",
       "stream": "stdout",
       "text": [
        " https://hn.algolia.com/api/v1/search?tags=comment,story_1894252\n",
        "Keychain Logistics"
       ]
      },
      {
       "output_type": "stream",
       "stream": "stdout",
       "text": [
        " https://hn.algolia.com/api/v1/search?tags=comment,story_5951065\n",
        "500Friends"
       ]
      },
      {
       "output_type": "stream",
       "stream": "stdout",
       "text": [
        " https://hn.algolia.com/api/v1/search?tags=comment,story_3728103\n",
        "Healthy Labs"
       ]
      },
      {
       "output_type": "stream",
       "stream": "stdout",
       "text": [
        " https://hn.algolia.com/api/v1/search?query=HealthyLabs&tags=story\n",
        "NowJS"
       ]
      },
      {
       "output_type": "stream",
       "stream": "stdout",
       "text": [
        " https://hn.algolia.com/api/v1/search?tags=comment,story_2510720\n",
        "Regalii"
       ]
      },
      {
       "output_type": "stream",
       "stream": "stdout",
       "text": [
        " https://hn.algolia.com/api/v1/search?tags=comment,story_6362277\n",
        "Humble Bundle"
       ]
      },
      {
       "output_type": "stream",
       "stream": "stdout",
       "text": [
        " https://hn.algolia.com/api/v1/search?tags=comment,story_4669704\n",
        "InterviewStreet"
       ]
      },
      {
       "output_type": "stream",
       "stream": "stdout",
       "text": [
        " https://hn.algolia.com/api/v1/search?tags=comment,story_5567656\n",
        "Answerly.com"
       ]
      },
      {
       "output_type": "stream",
       "stream": "stdout",
       "text": [
        " https://hn.algolia.com/api/v1/search?query=Answerly.com&tags=story\n",
        "7 Cups of Tea"
       ]
      },
      {
       "output_type": "stream",
       "stream": "stdout",
       "text": [
        " https://hn.algolia.com/api/v1/search?tags=comment,story_5054407\n",
        "AnyVivo"
       ]
      },
      {
       "output_type": "stream",
       "stream": "stdout",
       "text": [
        " https://hn.algolia.com/api/v1/search?tags=comment,story_3947202\n",
        "AptDeco"
       ]
      },
      {
       "output_type": "stream",
       "stream": "stdout",
       "text": [
        " https://hn.algolia.com/api/v1/search?tags=comment,story_7277984\n",
        "AudioBeta"
       ]
      },
      {
       "output_type": "stream",
       "stream": "stdout",
       "text": [
        " https://hn.algolia.com/api/v1/search?query=AudioBeta&tags=story\n",
        "Automatic"
       ]
      },
      {
       "output_type": "stream",
       "stream": "stdout",
       "text": [
        " https://hn.algolia.com/api/v1/search?tags=comment,story_5362508\n",
        "Beep"
       ]
      },
      {
       "output_type": "stream",
       "stream": "stdout",
       "text": [
        " https://hn.algolia.com/api/v1/search?tags=comment,story_8145263\n",
        "Bellabeat"
       ]
      },
      {
       "output_type": "stream",
       "stream": "stdout",
       "text": [
        " https://hn.algolia.com/api/v1/search?tags=comment,story_7463425\n",
        "BitAccess"
       ]
      },
      {
       "output_type": "stream",
       "stream": "stdout",
       "text": [
        " https://hn.algolia.com/api/v1/search?tags=comment,story_8173361\n",
        "Boostable"
       ]
      },
      {
       "output_type": "stream",
       "stream": "stdout",
       "text": [
        " https://hn.algolia.com/api/v1/search?tags=comment,story_7429568\n",
        "Bountii"
       ]
      },
      {
       "output_type": "stream",
       "stream": "stdout",
       "text": [
        " https://hn.algolia.com/api/v1/search?tags=comment,story_180323\n",
        "CareMessage"
       ]
      },
      {
       "output_type": "stream",
       "stream": "stdout",
       "text": [
        " https://hn.algolia.com/api/v1/search?tags=comment,story_7480189\n",
        "Carsabi"
       ]
      },
      {
       "output_type": "stream",
       "stream": "stdout",
       "text": [
        " https://hn.algolia.com/api/v1/search?tags=comment,story_3771947\n",
        "ChromaOm"
       ]
      },
      {
       "output_type": "stream",
       "stream": "stdout",
       "text": [
        " https://hn.algolia.com/api/v1/search?tags=comment,story_1277517\n",
        "Coco Controller"
       ]
      },
      {
       "output_type": "stream",
       "stream": "stdout",
       "text": [
        " https://hn.algolia.com/api/v1/search?query=CocoController&tags=story\n",
        "Craft Coffee"
       ]
      },
      {
       "output_type": "stream",
       "stream": "stdout",
       "text": [
        " https://hn.algolia.com/api/v1/search?tags=comment,story_4363424\n",
        "Embedster"
       ]
      },
      {
       "output_type": "stream",
       "stream": "stdout",
       "text": [
        " https://hn.algolia.com/api/v1/search?tags=comment,story_8211699\n",
        "Exec"
       ]
      },
      {
       "output_type": "stream",
       "stream": "stdout",
       "text": [
        " https://hn.algolia.com/api/v1/search?tags=comment,story_5063298\n",
        "FanChatter"
       ]
      },
      {
       "output_type": "stream",
       "stream": "stdout",
       "text": [
        " https://hn.algolia.com/api/v1/search?query=FanChatter&tags=story\n",
        "Firecrawl"
       ]
      },
      {
       "output_type": "stream",
       "stream": "stdout",
       "text": [
        " https://hn.algolia.com/api/v1/search?query=Firecrawl&tags=story\n",
        "Fixed"
       ]
      },
      {
       "output_type": "stream",
       "stream": "stdout",
       "text": [
        " https://hn.algolia.com/api/v1/search?tags=comment,story_8132823\n",
        "Flytenow"
       ]
      },
      {
       "output_type": "stream",
       "stream": "stdout",
       "text": [
        " https://hn.algolia.com/api/v1/search?tags=comment,story_8154887\n",
        "Framed Data"
       ]
      },
      {
       "output_type": "stream",
       "stream": "stdout",
       "text": [
        " https://hn.algolia.com/api/v1/search?query=FramedData&tags=story\n",
        "Gantto"
       ]
      },
      {
       "output_type": "stream",
       "stream": "stdout",
       "text": [
        " https://hn.algolia.com/api/v1/search?tags=comment,story_4381351\n",
        "Ginko Bioworks"
       ]
      },
      {
       "output_type": "stream",
       "stream": "stdout",
       "text": [
        " https://hn.algolia.com/api/v1/search?tags=comment,story_7100317\n",
        "Givespark"
       ]
      },
      {
       "output_type": "stream",
       "stream": "stdout",
       "text": [
        " https://hn.algolia.com/api/v1/search?query=Givespark&tags=story\n",
        "GraffitiGeo"
       ]
      },
      {
       "output_type": "stream",
       "stream": "stdout",
       "text": [
        " https://hn.algolia.com/api/v1/search?tags=comment,story_1070019\n",
        "Graft Concepts"
       ]
      },
      {
       "output_type": "stream",
       "stream": "stdout",
       "text": [
        " https://hn.algolia.com/api/v1/search?query=GraftConcepts&tags=story\n",
        "Greentoe"
       ]
      },
      {
       "output_type": "stream",
       "stream": "stdout",
       "text": [
        " https://hn.algolia.com/api/v1/search?tags=comment,story_4855501\n",
        "Helion Energy"
       ]
      },
      {
       "output_type": "stream",
       "stream": "stdout",
       "text": [
        " https://hn.algolia.com/api/v1/search?query=HelionEnergy&tags=story\n",
        "HoverChat"
       ]
      },
      {
       "output_type": "stream",
       "stream": "stdout",
       "text": [
        " https://hn.algolia.com/api/v1/search?tags=comment,story_7401562\n",
        "iJigg"
       ]
      },
      {
       "output_type": "stream",
       "stream": "stdout",
       "text": [
        " https://hn.algolia.com/api/v1/search?tags=comment,story_48181\n",
        "Infoharmoni"
       ]
      },
      {
       "output_type": "stream",
       "stream": "stdout",
       "text": [
        " https://hn.algolia.com/api/v1/search?query=Infoharmoni&tags=story\n",
        "InklingMarkets"
       ]
      },
      {
       "output_type": "stream",
       "stream": "stdout",
       "text": [
        " https://hn.algolia.com/api/v1/search?tags=comment,story_3494924\n",
        "InstantQ"
       ]
      },
      {
       "output_type": "stream",
       "stream": "stdout",
       "text": [
        " https://hn.algolia.com/api/v1/search?tags=comment,story_5215975\n",
        "Joberator"
       ]
      },
      {
       "output_type": "stream",
       "stream": "stdout",
       "text": [
        " https://hn.algolia.com/api/v1/search?query=Joberator&tags=story\n",
        "Kaleidoscope"
       ]
      },
      {
       "output_type": "stream",
       "stream": "stdout",
       "text": [
        " https://hn.algolia.com/api/v1/search?tags=comment,story_3836598\n",
        "Knowmia"
       ]
      },
      {
       "output_type": "stream",
       "stream": "stdout",
       "text": [
        " https://hn.algolia.com/api/v1/search?tags=comment,story_4382107\n",
        "Lawn Love"
       ]
      },
      {
       "output_type": "stream",
       "stream": "stdout",
       "text": [
        " https://hn.algolia.com/api/v1/search?tags=comment,story_1807236\n",
        "MadeSolid"
       ]
      },
      {
       "output_type": "stream",
       "stream": "stdout",
       "text": [
        " https://hn.algolia.com/api/v1/search?tags=comment,story_7939914\n",
        "Medigram"
       ]
      },
      {
       "output_type": "stream",
       "stream": "stdout",
       "text": [
        " https://hn.algolia.com/api/v1/search?tags=comment,story_4998799\n",
        "Meetcast"
       ]
      },
      {
       "output_type": "stream",
       "stream": "stdout",
       "text": [
        " https://hn.algolia.com/api/v1/search?tags=comment,story_8206185\n",
        "MTailor"
       ]
      },
      {
       "output_type": "stream",
       "stream": "stdout",
       "text": [
        " https://hn.algolia.com/api/v1/search?tags=comment,story_8039810\n",
        "Mth Sense"
       ]
      },
      {
       "output_type": "stream",
       "stream": "stdout",
       "text": [
        " https://hn.algolia.com/api/v1/search?tags=comment,story_4409241\n",
        "Naytev"
       ]
      },
      {
       "output_type": "stream",
       "stream": "stdout",
       "text": [
        " https://hn.algolia.com/api/v1/search?tags=comment,story_8180230\n",
        "Next Caller"
       ]
      },
      {
       "output_type": "stream",
       "stream": "stdout",
       "text": [
        " https://hn.algolia.com/api/v1/search?query=NextCaller&tags=story\n",
        "Nightingale"
       ]
      },
      {
       "output_type": "stream",
       "stream": "stdout",
       "text": [
        " https://hn.algolia.com/api/v1/search?tags=comment,story_7972657\n",
        "Noora Health"
       ]
      },
      {
       "output_type": "stream",
       "stream": "stdout",
       "text": [
        " https://hn.algolia.com/api/v1/search?query=NooraHealth&tags=story\n",
        "One Codex"
       ]
      },
      {
       "output_type": "stream",
       "stream": "stdout",
       "text": [
        " https://hn.algolia.com/api/v1/search?tags=comment,story_4036489\n",
        "Onename.io"
       ]
      },
      {
       "output_type": "stream",
       "stream": "stdout",
       "text": [
        " https://hn.algolia.com/api/v1/search?tags=comment,story_7485348\n",
        "Orankl"
       ]
      },
      {
       "output_type": "stream",
       "stream": "stdout",
       "text": [
        " https://hn.algolia.com/api/v1/search?tags=comment,story_7587803\n",
        "OrbsCCG"
       ]
      },
      {
       "output_type": "stream",
       "stream": "stdout",
       "text": [
        " https://hn.algolia.com/api/v1/search?query=OrbsCCG&tags=story\n",
        "Parenthoods"
       ]
      },
      {
       "output_type": "stream",
       "stream": "stdout",
       "text": [
        " https://hn.algolia.com/api/v1/search?tags=comment,story_8164369\n",
        "People and Pages"
       ]
      },
      {
       "output_type": "stream",
       "stream": "stdout",
       "text": [
        " https://hn.algolia.com/api/v1/search?query=PeopleandPages&tags=story\n",
        "PollGround"
       ]
      },
      {
       "output_type": "stream",
       "stream": "stdout",
       "text": [
        " https://hn.algolia.com/api/v1/search?tags=comment,story_4325237\n",
        "Precognate"
       ]
      },
      {
       "output_type": "stream",
       "stream": "stdout",
       "text": [
        " https://hn.algolia.com/api/v1/search?query=Precognate&tags=story\n",
        "ProductHunt"
       ]
      },
      {
       "output_type": "stream",
       "stream": "stdout",
       "text": [
        " https://hn.algolia.com/api/v1/search?tags=comment,story_8368751\n",
        "Propable"
       ]
      },
      {
       "output_type": "stream",
       "stream": "stdout",
       "text": [
        " https://hn.algolia.com/api/v1/search?tags=comment,story_2266040\n",
        "Reddit"
       ]
      },
      {
       "output_type": "stream",
       "stream": "stdout",
       "text": [
        " https://hn.algolia.com/api/v1/search?tags=comment,story_1672238\n",
        "Rescale"
       ]
      },
      {
       "output_type": "stream",
       "stream": "stdout",
       "text": [
        " https://hn.algolia.com/api/v1/search?tags=comment,story_7706711\n",
        "Rigetti Computing"
       ]
      },
      {
       "output_type": "stream",
       "stream": "stdout",
       "text": [
        " https://hn.algolia.com/api/v1/search?query=RigettiComputing&tags=story\n",
        "Shift Payments"
       ]
      },
      {
       "output_type": "stream",
       "stream": "stdout",
       "text": [
        " https://hn.algolia.com/api/v1/search?query=ShiftPayments&tags=story\n",
        "Sliced Investing"
       ]
      },
      {
       "output_type": "stream",
       "stream": "stdout",
       "text": [
        " https://hn.algolia.com/api/v1/search?tags=comment,story_8143098\n",
        "Standard Treasury"
       ]
      },
      {
       "output_type": "stream",
       "stream": "stdout",
       "text": [
        " https://hn.algolia.com/api/v1/search?query=StandardTreasury&tags=story\n",
        "StudyEdge"
       ]
      },
      {
       "output_type": "stream",
       "stream": "stdout",
       "text": [
        " https://hn.algolia.com/api/v1/search?query=StudyEdge&tags=story\n",
        "Style Lend"
       ]
      },
      {
       "output_type": "stream",
       "stream": "stdout",
       "text": [
        " https://hn.algolia.com/api/v1/search?tags=comment,story_7240377\n",
        "TomoGuides"
       ]
      },
      {
       "output_type": "stream",
       "stream": "stdout",
       "text": [
        " https://hn.algolia.com/api/v1/search?tags=comment,story_8270542\n",
        "Tweetflow"
       ]
      },
      {
       "output_type": "stream",
       "stream": "stdout",
       "text": [
        " https://hn.algolia.com/api/v1/search?tags=comment,story_6331445\n",
        "UrbanTakeover"
       ]
      },
      {
       "output_type": "stream",
       "stream": "stdout",
       "text": [
        " https://hn.algolia.com/api/v1/search?query=UrbanTakeover&tags=story\n",
        "Whitenoise Networks"
       ]
      },
      {
       "output_type": "stream",
       "stream": "stdout",
       "text": [
        " https://hn.algolia.com/api/v1/search?query=WhitenoiseNetworks&tags=story\n",
        "Youlicit"
       ]
      },
      {
       "output_type": "stream",
       "stream": "stdout",
       "text": [
        " https://hn.algolia.com/api/v1/search?tags=comment,story_287841\n",
        "YumDots"
       ]
      },
      {
       "output_type": "stream",
       "stream": "stdout",
       "text": [
        " https://hn.algolia.com/api/v1/search?tags=comment,story_4622589\n",
        "Zenedy"
       ]
      },
      {
       "output_type": "stream",
       "stream": "stdout",
       "text": [
        " https://hn.algolia.com/api/v1/search?tags=comment,story_1437311\n",
        "Zigfu"
       ]
      },
      {
       "output_type": "stream",
       "stream": "stdout",
       "text": [
        " https://hn.algolia.com/api/v1/search?tags=comment,story_2921897\n",
        "Zinc"
       ]
      },
      {
       "output_type": "stream",
       "stream": "stdout",
       "text": [
        " https://hn.algolia.com/api/v1/search?tags=comment,story_3778218\n",
        "Zip Phone"
       ]
      },
      {
       "output_type": "stream",
       "stream": "stdout",
       "text": [
        " https://hn.algolia.com/api/v1/search?tags=comment,story_6553870\n",
        "ZowPow"
       ]
      },
      {
       "output_type": "stream",
       "stream": "stdout",
       "text": [
        " https://hn.algolia.com/api/v1/search?tags=comment,story_6851894\n",
        "Teespring"
       ]
      },
      {
       "output_type": "stream",
       "stream": "stdout",
       "text": [
        " https://hn.algolia.com/api/v1/search?tags=comment,story_6529517\n",
        "Memebox"
       ]
      },
      {
       "output_type": "stream",
       "stream": "stdout",
       "text": [
        " https://hn.algolia.com/api/v1/search?tags=comment,story_8102815\n",
        "Meta Space Glasses"
       ]
      },
      {
       "output_type": "stream",
       "stream": "stdout",
       "text": [
        " https://hn.algolia.com/api/v1/search?query=MetaSpaceGlasses&tags=story\n",
        "One Month Rails"
       ]
      },
      {
       "output_type": "stream",
       "stream": "stdout",
       "text": [
        " https://hn.algolia.com/api/v1/search?tags=comment,story_6496409\n",
        "Zaranga"
       ]
      },
      {
       "output_type": "stream",
       "stream": "stdout",
       "text": [
        " https://hn.algolia.com/api/v1/search?tags=comment,story_5372380\n",
        "True Link Financial"
       ]
      },
      {
       "output_type": "stream",
       "stream": "stdout",
       "text": [
        " https://hn.algolia.com/api/v1/search?query=TrueLinkFinancial&tags=story\n",
        "Zillabyte"
       ]
      },
      {
       "output_type": "stream",
       "stream": "stdout",
       "text": [
        " https://hn.algolia.com/api/v1/search?tags=comment,story_3940387\n",
        "AgileDiagnosis"
       ]
      },
      {
       "output_type": "stream",
       "stream": "stdout",
       "text": [
        " https://hn.algolia.com/api/v1/search?query=AgileDiagnosis&tags=story\n",
        "Embark"
       ]
      },
      {
       "output_type": "stream",
       "stream": "stdout",
       "text": [
        " https://hn.algolia.com/api/v1/search?tags=comment,story_6261031\n"
       ]
      }
     ],
     "prompt_number": 3
    },
    {
     "cell_type": "code",
     "collapsed": false,
     "input": [
      "# Export dataframe to CSV for backup.\n",
      "hnstorycomment.to_csv('../Datasets/HNTitleCommentsSentimentData2.csv', sep=',', encoding='utf-8')"
     ],
     "language": "python",
     "metadata": {},
     "outputs": [],
     "prompt_number": 4
    },
    {
     "cell_type": "code",
     "collapsed": false,
     "input": [
      "commenturl"
     ],
     "language": "python",
     "metadata": {},
     "outputs": [
      {
       "metadata": {},
       "output_type": "pyout",
       "prompt_number": 5,
       "text": [
        "'https://news.ycombinator.com/item?id=2869900'"
       ]
      }
     ],
     "prompt_number": 5
    }
   ],
   "metadata": {}
  }
 ]
}