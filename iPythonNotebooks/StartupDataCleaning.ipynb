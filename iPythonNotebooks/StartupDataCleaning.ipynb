{
 "metadata": {
  "name": "",
  "signature": "sha256:dfa46b64a16ad642496bbd818a954d3784c2c5b0a108e1f44f3ac237397f3a24"
 },
 "nbformat": 3,
 "nbformat_minor": 0,
 "worksheets": [
  {
   "cells": [
    {
     "cell_type": "code",
     "collapsed": false,
     "input": [
      "import pandas as pd\n",
      "import numpy as np\n",
      "import matplotlib.pyplot as plt"
     ],
     "language": "python",
     "metadata": {},
     "outputs": [],
     "prompt_number": 1
    },
    {
     "cell_type": "code",
     "collapsed": false,
     "input": [
      "# For a given feature, split comma-separated values into separate columns and store it in a DataFrame.\n",
      "def split_feature(feature_list, df, x, length):\n",
      "    for y in range (0, length):\n",
      "        if feature_list[y]:\n",
      "            df.iloc[x,y] = feature_list[y].strip()\n",
      "        else:\n",
      "            break\n",
      "    \n",
      "    return df"
     ],
     "language": "python",
     "metadata": {},
     "outputs": [],
     "prompt_number": 2
    },
    {
     "cell_type": "code",
     "collapsed": false,
     "input": [
      "# Load datasets from Silk - Y Combinator.\n",
      "startups = pd.DataFrame()\n",
      "startups = pd.read_csv('../Datasets/Startups.csv')"
     ],
     "language": "python",
     "metadata": {},
     "outputs": [],
     "prompt_number": 3
    },
    {
     "cell_type": "code",
     "collapsed": false,
     "input": [
      "# Renaming some column headings for easier reference.\n",
      "startups.rename(columns={'Satus':'Fate',\n",
      "                        'Categories':'Market',\n",
      "                        'Y Combinator Year':'YCYear',\n",
      "                        'Y Combinator Session':'YCSession',\n",
      "                        'Amounts raised in different funding rounds':'TotalFunds',\n",
      "                        'Headquarters (City)':'City',\n",
      "                        'Seed-DB / Mattermark Profile':'SeedDBMattermarkProfile',\n",
      "                        'Crunchbase / Angel List Profile':'CrunchBaseAngelListProfile'}, inplace=True)"
     ],
     "language": "python",
     "metadata": {},
     "outputs": [],
     "prompt_number": 4
    },
    {
     "cell_type": "code",
     "collapsed": false,
     "input": [
      "# Deleting less predictive features. Mostly because they're redundant, but may revisit in future projects.\n",
      "startups = startups.drop(['Year Founded',\n",
      "                        'Office Address',\n",
      "                        'Mapping Location',\n",
      "                        'Headquarters (US State)',\n",
      "                        'Headquarters (Country)'], 1)"
     ],
     "language": "python",
     "metadata": {},
     "outputs": [],
     "prompt_number": 5
    },
    {
     "cell_type": "code",
     "collapsed": false,
     "input": [
      "# Manual cleaning on company names because I don't have the time to properly regex out superfluous stuff.\n",
      "# ...but I know how to use regex, though! (I swear!)\n",
      "startups.loc[13,['Company']] = 'GrubWithUs'\n",
      "startups.loc[72,['Company']] = 'Envolve'\n",
      "startups.loc[131,['Company']] = 'Myo'\n",
      "startups.loc[160,['Company']] = 'Fliggo'\n",
      "startups.loc[182,['Company']] = 'SellStage'\n",
      "startups.loc[199,['Company']] = 'Zecter'\n",
      "startups.loc[202,['Company']] = 'PopSet'\n",
      "startups.loc[213,['Company']] = 'Microryza'\n",
      "startups.loc[393,['Company']] = 'Addmired'"
     ],
     "language": "python",
     "metadata": {},
     "outputs": [],
     "prompt_number": 6
    },
    {
     "cell_type": "code",
     "collapsed": false,
     "input": [
      "# Some features came with values that are delimited by commas--and they need to be split (for scikit-learn purposes).\n",
      "# Side note: There is a bit of redundancy, as well as some hard-coded stuff in this block of code.\n",
      "# I'll figure out a way to clean this up after my demo. \n",
      "\n",
      "# Startups tend to identify themselves across many markets.\n",
      "# For ROI purposes, boiling this feature down to just five.\n",
      "market = pd.DataFrame(index=range(len(startups)), \n",
      "                      columns=['Market1', 'Market2', 'Market3', 'Market4', 'Market5'])\n",
      "market = market.fillna(NaN)\n",
      "\n",
      "# Four founders seems like a good common denominator, though there are startups with more founders (but not many).\n",
      "founders = pd.DataFrame(index=range(len(startups)), \n",
      "                      columns=['Founders1', 'Founders2', 'Founders3', 'Founders4'])\n",
      "founders = founders.fillna(NaN)\n",
      "\n",
      "# Again, four seems like a good common denominator for investors.\n",
      "investors = pd.DataFrame(index=range(len(startups)), \n",
      "                      columns=['Investors1', 'Investors2', 'Investors3', 'Investors4'])\n",
      "investors = investors.fillna(NaN)\n",
      "\n",
      "for index, row in startups.iterrows():\n",
      "        \n",
      "    # Drop all stealth companies then skip to the next row.\n",
      "    if 'Stealth' in row['Company']:\n",
      "        startups = startups.drop(index)\n",
      "        continue\n",
      "        \n",
      "    # I found at least one company with two cities separated by a comma\u2014so I'm cleaning that up.\n",
      "    if isinstance(row['City'], basestring):\n",
      "        city = row['City'].split(',')\n",
      "        if len(city) > 1:\n",
      "            startups.loc[index,['City']] = city[0]\n",
      "        \n",
      "    # Split up market, founders, and investors.\n",
      "    if isinstance(row['Market'], basestring):\n",
      "        marketlist = row['Market'].split(',')\n",
      "        if len(marketlist) <= 5:            \n",
      "            market = split_feature(marketlist, market, index, len(marketlist))\n",
      "        else:\n",
      "            market = split_feature(marketlist, market, index, 5)\n",
      "            \n",
      "    if isinstance(row['Founders'], basestring):\n",
      "        founderslist = row['Founders'].split(',')\n",
      "        if len(founderslist) <= 4:            \n",
      "            founders = split_feature(founderslist, founders, index, len(founderslist))\n",
      "        else:\n",
      "            founders = split_feature(founderslist, founders, index, 4)\n",
      "    \n",
      "    if isinstance(row['Investors'], basestring):\n",
      "        investorslist = row['Investors'].split(',')\n",
      "        if 'Y Combinator' in investorslist:\n",
      "            investorslist.remove('Y Combinator')\n",
      "\n",
      "        if len(investorslist) <= 4: \n",
      "            investors = split_feature(investorslist, investors, index, len(investorslist))                \n",
      "        else:\n",
      "            investors = split_feature(investorslist, investors, index, 4)\n",
      "    \n",
      "    # Sum all fundings rounds into a single value.\n",
      "    if isinstance(row['TotalFunds'], basestring):\n",
      "        totalfundslist = row['TotalFunds'].split(', ')\n",
      "        total = 0\n",
      "        for fund in range(0, len(totalfundslist)):\n",
      "            if totalfundslist[fund] != 'undisclosed amount':\n",
      "                totalfundslist[fund] = totalfundslist[fund].replace('$','')\n",
      "                totalfundslist[fund] = totalfundslist[fund].replace(',','')\n",
      "                total += int(float(totalfundslist[fund]))\n",
      "            else:\n",
      "                total = 17000 # If amount if undisclosed, assuming as least $17,000 was funded.\n",
      "        \n",
      "        # Average funding amount based on this article:\n",
      "        # http://venturebeat.com/2014/04/22/future-y-combinators-new-deal-more-money-but-still-for-7-in-equity/\n",
      "        if total == 0:\n",
      "            # If it's YC S14, and no total fund was given, then assume $120,000 was funded.\n",
      "            if row['YCYear'] == '2014' and row['YCSession'] == 'Summer':\n",
      "                total = 120000\n",
      "            # Otherwise, if it's any other session, assume $17,000 was funded.\n",
      "            else:\n",
      "                total = 17000\n",
      "    # If it's a NaN, assume $17,000 was funded.\n",
      "    else:\n",
      "        total = 17000\n",
      "        \n",
      "    startups.loc[index,['TotalFunds']] = total"
     ],
     "language": "python",
     "metadata": {},
     "outputs": [],
     "prompt_number": 7
    },
    {
     "cell_type": "code",
     "collapsed": false,
     "input": [
      "# Join splitted features with main DataFrame.\n",
      "startups = startups.join(investors, how='inner')\n",
      "startups = startups.join(founders, how='inner')\n",
      "startups = startups.join(market, how='inner')"
     ],
     "language": "python",
     "metadata": {},
     "outputs": [],
     "prompt_number": 8
    },
    {
     "cell_type": "code",
     "collapsed": false,
     "input": [
      "# Drop unsplitted featured\n",
      "startups = startups.drop(['Market',\n",
      "                        'Founders',\n",
      "                        'Investors'], 1)"
     ],
     "language": "python",
     "metadata": {},
     "outputs": []
    },
    {
     "cell_type": "code",
     "collapsed": false,
     "input": [
      "# This is good for now. Work on joining DataFrame later. Focus on Hacker News Algolia API.\n",
      "startups.to_csv('../Datasets/CleanStartupsFull3.csv', sep=',', encoding='utf-8')"
     ],
     "language": "python",
     "metadata": {},
     "outputs": [],
     "prompt_number": 9
    }
   ],
   "metadata": {}
  }
 ]
}