{
 "metadata": {
  "name": "",
  "signature": "sha256:61c1c4b0ca743cff226f4334bae236a85dc9e9ec0fe6c9c65ad32845963f21f7"
 },
 "nbformat": 3,
 "nbformat_minor": 0,
 "worksheets": []
}